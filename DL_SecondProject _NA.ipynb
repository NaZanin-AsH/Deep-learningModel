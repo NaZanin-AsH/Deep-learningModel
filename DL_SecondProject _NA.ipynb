{
  "cells": [
    {
      "cell_type": "code",
      "execution_count": 91,
      "metadata": {
        "id": "a_m_nOb7ZKWn"
      },
      "outputs": [],
      "source": [
        "import tensorflow as tf\n",
        "from tensorflow.keras import layers, models\n",
        "from tensorflow import keras\n",
        "from tensorflow.keras import datasets\n",
        "import matplotlib.pyplot as plt\n",
        "\n",
        "(x_train, y_train), (x_test, y_test) = datasets.cifar10.load_data()\n",
        "\n"
      ]
    },
    {
      "cell_type": "code",
      "execution_count": 92,
      "metadata": {
        "colab": {
          "base_uri": "https://localhost:8080/"
        },
        "id": "qHRbdKH2rPqN",
        "outputId": "d1c61161-50a2-474c-a760-27db46f28f38"
      },
      "outputs": [
        {
          "data": {
            "text/plain": [
              "array([[6],\n",
              "       [9],\n",
              "       [9],\n",
              "       [4],\n",
              "       [1],\n",
              "       [1],\n",
              "       [2],\n",
              "       [7],\n",
              "       [8],\n",
              "       [3]], dtype=uint8)"
            ]
          },
          "execution_count": 92,
          "metadata": {},
          "output_type": "execute_result"
        }
      ],
      "source": [
        " y_train[:10]"
      ]
    },
    {
      "cell_type": "code",
      "execution_count": 93,
      "metadata": {
        "colab": {
          "base_uri": "https://localhost:8080/",
          "height": 72
        },
        "id": "ANZ2WbTaq1Lu",
        "outputId": "b6e1feb8-aa30-4e0b-9d59-3b7d6b6e15c3"
      },
      "outputs": [
        {
          "data": {
            "text/html": [
              "<style>\n",
              "      .ndarray_repr .ndarray_raw_data {\n",
              "        display: none;\n",
              "      }\n",
              "      .ndarray_repr.show_array .ndarray_raw_data {\n",
              "        display: block;\n",
              "      }\n",
              "      .ndarray_repr.show_array .ndarray_image_preview {\n",
              "        display: none;\n",
              "      }\n",
              "      </style>\n",
              "      <div id=\"id-d00ef7e5-c544-45ef-a49b-c61ba319324a\" class=\"ndarray_repr\"><pre>ndarray (32, 32, 3) <button style=\"padding: 0 2px;\">show data</button></pre><img src=\"data:image/png;base64,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\" class=\"ndarray_image_preview\" /><pre class=\"ndarray_raw_data\">array([[[154, 177, 187],\n",
              "        [126, 137, 136],\n",
              "        [105, 104,  95],\n",
              "        ...,\n",
              "        [ 91,  95,  71],\n",
              "        [ 87,  90,  71],\n",
              "        [ 79,  81,  70]],\n",
              "\n",
              "       [[140, 160, 169],\n",
              "        [145, 153, 154],\n",
              "        [125, 125, 118],\n",
              "        ...,\n",
              "        [ 96,  99,  78],\n",
              "        [ 77,  80,  62],\n",
              "        [ 71,  73,  61]],\n",
              "\n",
              "       [[140, 155, 164],\n",
              "        [139, 146, 149],\n",
              "        [115, 115, 112],\n",
              "        ...,\n",
              "        [ 79,  82,  64],\n",
              "        [ 68,  70,  55],\n",
              "        [ 67,  69,  55]],\n",
              "\n",
              "       ...,\n",
              "\n",
              "       [[175, 167, 166],\n",
              "        [156, 154, 160],\n",
              "        [154, 160, 170],\n",
              "        ...,\n",
              "        [ 42,  34,  36],\n",
              "        [ 61,  53,  57],\n",
              "        [ 93,  83,  91]],\n",
              "\n",
              "       [[165, 154, 128],\n",
              "        [156, 152, 130],\n",
              "        [159, 161, 142],\n",
              "        ...,\n",
              "        [103,  93,  96],\n",
              "        [123, 114, 120],\n",
              "        [131, 121, 131]],\n",
              "\n",
              "       [[163, 148, 120],\n",
              "        [158, 148, 122],\n",
              "        [163, 156, 133],\n",
              "        ...,\n",
              "        [143, 133, 139],\n",
              "        [143, 134, 142],\n",
              "        [143, 133, 144]]], dtype=uint8)</pre></div><script>\n",
              "      (() => {\n",
              "      const titles = ['show data', 'hide data'];\n",
              "      let index = 0\n",
              "      document.querySelector('#id-d00ef7e5-c544-45ef-a49b-c61ba319324a button').onclick = (e) => {\n",
              "        document.querySelector('#id-d00ef7e5-c544-45ef-a49b-c61ba319324a').classList.toggle('show_array');\n",
              "        index = (++index) % 2;\n",
              "        document.querySelector('#id-d00ef7e5-c544-45ef-a49b-c61ba319324a button').textContent = titles[index];\n",
              "        e.preventDefault();\n",
              "        e.stopPropagation();\n",
              "      }\n",
              "      })();\n",
              "    </script>"
            ],
            "text/plain": [
              "array([[[154, 177, 187],\n",
              "        [126, 137, 136],\n",
              "        [105, 104,  95],\n",
              "        ...,\n",
              "        [ 91,  95,  71],\n",
              "        [ 87,  90,  71],\n",
              "        [ 79,  81,  70]],\n",
              "\n",
              "       [[140, 160, 169],\n",
              "        [145, 153, 154],\n",
              "        [125, 125, 118],\n",
              "        ...,\n",
              "        [ 96,  99,  78],\n",
              "        [ 77,  80,  62],\n",
              "        [ 71,  73,  61]],\n",
              "\n",
              "       [[140, 155, 164],\n",
              "        [139, 146, 149],\n",
              "        [115, 115, 112],\n",
              "        ...,\n",
              "        [ 79,  82,  64],\n",
              "        [ 68,  70,  55],\n",
              "        [ 67,  69,  55]],\n",
              "\n",
              "       ...,\n",
              "\n",
              "       [[175, 167, 166],\n",
              "        [156, 154, 160],\n",
              "        [154, 160, 170],\n",
              "        ...,\n",
              "        [ 42,  34,  36],\n",
              "        [ 61,  53,  57],\n",
              "        [ 93,  83,  91]],\n",
              "\n",
              "       [[165, 154, 128],\n",
              "        [156, 152, 130],\n",
              "        [159, 161, 142],\n",
              "        ...,\n",
              "        [103,  93,  96],\n",
              "        [123, 114, 120],\n",
              "        [131, 121, 131]],\n",
              "\n",
              "       [[163, 148, 120],\n",
              "        [158, 148, 122],\n",
              "        [163, 156, 133],\n",
              "        ...,\n",
              "        [143, 133, 139],\n",
              "        [143, 134, 142],\n",
              "        [143, 133, 144]]], dtype=uint8)"
            ]
          },
          "execution_count": 93,
          "metadata": {},
          "output_type": "execute_result"
        }
      ],
      "source": [
        "x_train[1]"
      ]
    },
    {
      "cell_type": "code",
      "execution_count": 94,
      "metadata": {
        "id": "jmlbeH4Iq68d"
      },
      "outputs": [],
      "source": [
        "#plt.imshow(x_train[1],cmap=\"gray\")"
      ]
    },
    {
      "cell_type": "code",
      "execution_count": 95,
      "metadata": {
        "colab": {
          "base_uri": "https://localhost:8080/"
        },
        "id": "haNMgbNuZMbd",
        "outputId": "9d8754c8-f762-43a0-ca62-880f6913de59"
      },
      "outputs": [
        {
          "name": "stdout",
          "output_type": "stream",
          "text": [
            "Training data shape: (50000, 32, 32, 3)\n",
            "Training target shape: (50000, 1)\n",
            "Test data shape: (10000, 32, 32, 3)\n",
            "Test target shape: (10000, 1)\n"
          ]
        }
      ],
      "source": [
        "print(f\"Training data shape: {x_train.shape}\")\n",
        "print(f\"Training target shape: {y_train.shape}\")\n",
        "print(f\"Test data shape: {x_test.shape}\")\n",
        "print(f\"Test target shape: {y_test.shape}\")"
      ]
    },
    {
      "cell_type": "code",
      "execution_count": 96,
      "metadata": {
        "id": "jf7WELhleusi"
      },
      "outputs": [],
      "source": [
        "from sklearn.model_selection import train_test_split\n",
        "import numpy as np\n"
      ]
    },
    {
      "cell_type": "code",
      "execution_count": 97,
      "metadata": {
        "id": "tFUlNtFv4NSE"
      },
      "outputs": [],
      "source": [
        "x_train = x_train.astype('float32') / 255.0\n",
        "x_test1 = x_test.astype('float32') / 255.0\n"
      ]
    },
    {
      "cell_type": "markdown",
      "metadata": {
        "id": "l5l3Gv8sfWiT"
      },
      "source": [
        "#we combine our data for split it base on the %"
      ]
    },
    {
      "cell_type": "code",
      "execution_count": 98,
      "metadata": {
        "id": "YSbTVkpye2SQ"
      },
      "outputs": [],
      "source": [
        "X = np.concatenate((x_train, x_test), axis=0)\n",
        "y = np.concatenate((y_train, y_test), axis=0)"
      ]
    },
    {
      "cell_type": "code",
      "execution_count": 99,
      "metadata": {
        "id": "o6CZfKQGfev1"
      },
      "outputs": [],
      "source": [
        "x_train1, x_test1, y_train1, y_test1 = train_test_split(X, y, test_size=0.15, random_state=42)\n"
      ]
    },
    {
      "cell_type": "code",
      "execution_count": 100,
      "metadata": {
        "id": "8X9YGOgwgCf6"
      },
      "outputs": [],
      "source": [
        "#10% of the training for validation\n",
        "x_train2, x_validation, y_train2, y_validation = train_test_split(x_train1, y_train1, test_size=0.1, random_state=42)\n"
      ]
    },
    {
      "cell_type": "code",
      "execution_count": 101,
      "metadata": {
        "colab": {
          "base_uri": "https://localhost:8080/"
        },
        "id": "FupTUNkhgi0e",
        "outputId": "8e436dc5-b5fd-4bf8-eedf-606393b00f8b"
      },
      "outputs": [
        {
          "name": "stdout",
          "output_type": "stream",
          "text": [
            "New training data shape: (45900, 32, 32, 3)\n",
            "New validation data shape: (5100, 32, 32, 3)\n",
            "New test data shape: (9000, 32, 32, 3)\n"
          ]
        }
      ],
      "source": [
        "print(f\"New training data shape: {x_train2.shape}\")\n",
        "print(f\"New validation data shape: {x_validation.shape}\")\n",
        "print(f\"New test data shape: {x_test1.shape}\")"
      ]
    },
    {
      "cell_type": "code",
      "execution_count": 102,
      "metadata": {
        "id": "YihcoHDogsKX"
      },
      "outputs": [],
      "source": [
        "#we encode the target\n",
        "y_train2_onehot = tf.keras.utils.to_categorical(y_train2, 10)\n",
        "y_validation_onehot = tf.keras.utils.to_categorical(y_validation, 10)\n",
        "y_test1_onehot = tf.keras.utils.to_categorical(y_test1, 10)"
      ]
    },
    {
      "cell_type": "code",
      "execution_count": 147,
      "metadata": {
        "id": "j8H93I7fhRhN"
      },
      "outputs": [],
      "source": [
        "model = models.Sequential([\n",
        "    layers.Flatten(input_shape=(32, 32, 3)),\n",
        "    layers.Dense(512, activation='relu'),\n",
        "    layers.Dense(256, activation='relu'),\n",
        "    layers.Dense(128, activation='relu'),\n",
        "    layers.Dense(64, activation='relu'),\n",
        "    layers.Dense(32, activation='relu'),\n",
        "    layers.Dense(10, activation='softmax')\n",
        "])\n"
      ]
    },
    {
      "cell_type": "code",
      "execution_count": 148,
      "metadata": {
        "id": "bwDJh89mhz1S"
      },
      "outputs": [],
      "source": [
        "model.compile(optimizer='adam', loss='categorical_crossentropy', metrics=['accuracy'])\n"
      ]
    },
    {
      "cell_type": "code",
      "execution_count": 149,
      "metadata": {
        "colab": {
          "base_uri": "https://localhost:8080/"
        },
        "id": "2SzaOPwph6RF",
        "outputId": "7340ea0c-dce3-4030-a18c-0ef9004d8abd"
      },
      "outputs": [
        {
          "name": "stdout",
          "output_type": "stream",
          "text": [
            "Epoch 1/5\n",
            "\u001b[1m1435/1435\u001b[0m \u001b[32m━━━━━━━━━━━━━━━━━━━━\u001b[0m\u001b[37m\u001b[0m \u001b[1m40s\u001b[0m 27ms/step - accuracy: 0.1232 - loss: 7.3118 - val_accuracy: 0.1406 - val_loss: 2.2929\n",
            "Epoch 2/5\n",
            "\u001b[1m1435/1435\u001b[0m \u001b[32m━━━━━━━━━━━━━━━━━━━━\u001b[0m\u001b[37m\u001b[0m \u001b[1m39s\u001b[0m 25ms/step - accuracy: 0.1873 - loss: 2.1853 - val_accuracy: 0.2424 - val_loss: 2.0559\n",
            "Epoch 3/5\n",
            "\u001b[1m1435/1435\u001b[0m \u001b[32m━━━━━━━━━━━━━━━━━━━━\u001b[0m\u001b[37m\u001b[0m \u001b[1m41s\u001b[0m 25ms/step - accuracy: 0.2865 - loss: 1.9461 - val_accuracy: 0.3163 - val_loss: 1.8807\n",
            "Epoch 4/5\n",
            "\u001b[1m1435/1435\u001b[0m \u001b[32m━━━━━━━━━━━━━━━━━━━━\u001b[0m\u001b[37m\u001b[0m \u001b[1m35s\u001b[0m 25ms/step - accuracy: 0.3228 - loss: 1.8502 - val_accuracy: 0.3294 - val_loss: 1.8023\n",
            "Epoch 5/5\n",
            "\u001b[1m1435/1435\u001b[0m \u001b[32m━━━━━━━━━━━━━━━━━━━━\u001b[0m\u001b[37m\u001b[0m \u001b[1m41s\u001b[0m 25ms/step - accuracy: 0.3422 - loss: 1.8035 - val_accuracy: 0.3418 - val_loss: 1.7935\n"
          ]
        }
      ],
      "source": [
        "history = model.fit(x_train2, y_train2_onehot, epochs=10, validation_data=(x_validation, y_validation_onehot))\n"
      ]
    },
    {
      "cell_type": "code",
      "execution_count": 106,
      "metadata": {
        "colab": {
          "base_uri": "https://localhost:8080/"
        },
        "id": "AT6UL-zliH-r",
        "outputId": "84dcde20-3391-4607-b4e3-0111739b0d11"
      },
      "outputs": [
        {
          "name": "stdout",
          "output_type": "stream",
          "text": [
            "Requirement already satisfied: keras-tuner in /usr/local/lib/python3.10/dist-packages (1.4.7)\n",
            "Requirement already satisfied: keras in /usr/local/lib/python3.10/dist-packages (from keras-tuner) (3.4.1)\n",
            "Requirement already satisfied: packaging in /usr/local/lib/python3.10/dist-packages (from keras-tuner) (24.1)\n",
            "Requirement already satisfied: requests in /usr/local/lib/python3.10/dist-packages (from keras-tuner) (2.32.3)\n",
            "Requirement already satisfied: kt-legacy in /usr/local/lib/python3.10/dist-packages (from keras-tuner) (1.0.5)\n",
            "Requirement already satisfied: absl-py in /usr/local/lib/python3.10/dist-packages (from keras->keras-tuner) (1.4.0)\n",
            "Requirement already satisfied: numpy in /usr/local/lib/python3.10/dist-packages (from keras->keras-tuner) (1.26.4)\n",
            "Requirement already satisfied: rich in /usr/local/lib/python3.10/dist-packages (from keras->keras-tuner) (13.8.1)\n",
            "Requirement already satisfied: namex in /usr/local/lib/python3.10/dist-packages (from keras->keras-tuner) (0.0.8)\n",
            "Requirement already satisfied: h5py in /usr/local/lib/python3.10/dist-packages (from keras->keras-tuner) (3.11.0)\n",
            "Requirement already satisfied: optree in /usr/local/lib/python3.10/dist-packages (from keras->keras-tuner) (0.12.1)\n",
            "Requirement already satisfied: ml-dtypes in /usr/local/lib/python3.10/dist-packages (from keras->keras-tuner) (0.4.0)\n",
            "Requirement already satisfied: charset-normalizer<4,>=2 in /usr/local/lib/python3.10/dist-packages (from requests->keras-tuner) (3.3.2)\n",
            "Requirement already satisfied: idna<4,>=2.5 in /usr/local/lib/python3.10/dist-packages (from requests->keras-tuner) (3.8)\n",
            "Requirement already satisfied: urllib3<3,>=1.21.1 in /usr/local/lib/python3.10/dist-packages (from requests->keras-tuner) (2.0.7)\n",
            "Requirement already satisfied: certifi>=2017.4.17 in /usr/local/lib/python3.10/dist-packages (from requests->keras-tuner) (2024.8.30)\n",
            "Requirement already satisfied: typing-extensions>=4.5.0 in /usr/local/lib/python3.10/dist-packages (from optree->keras->keras-tuner) (4.12.2)\n",
            "Requirement already satisfied: markdown-it-py>=2.2.0 in /usr/local/lib/python3.10/dist-packages (from rich->keras->keras-tuner) (3.0.0)\n",
            "Requirement already satisfied: pygments<3.0.0,>=2.13.0 in /usr/local/lib/python3.10/dist-packages (from rich->keras->keras-tuner) (2.16.1)\n",
            "Requirement already satisfied: mdurl~=0.1 in /usr/local/lib/python3.10/dist-packages (from markdown-it-py>=2.2.0->rich->keras->keras-tuner) (0.1.2)\n"
          ]
        }
      ],
      "source": [
        "pip install keras-tuner --upgrade\n"
      ]
    },
    {
      "cell_type": "code",
      "execution_count": 107,
      "metadata": {
        "id": "GjOi315KRHBj"
      },
      "outputs": [],
      "source": [
        "import keras_tuner as kt\n"
      ]
    },
    {
      "cell_type": "code",
      "execution_count": 108,
      "metadata": {
        "id": "YCJqXnMuR1Jx"
      },
      "outputs": [],
      "source": [
        "def build_model(hp):\n",
        "    model = keras.Sequential()\n",
        "\n",
        "    model.add(keras.layers.Flatten(input_shape=(32, 32, 3)))\n",
        "\n",
        "    model.add(keras.layers.Dense(units=hp.Choice('units', [32,64, 128, 256,512]),\n",
        "        activation='relu'))\n",
        "\n",
        "    for i in range(hp.Int('num_layers', 1, 5)):\n",
        "        model.add(keras.layers.Dense(\n",
        "            units=hp.Choice(f'layer_{i}_units', [32,64, 128, 256,512]),\n",
        "            activation='relu'))\n",
        "\n",
        "    model.add(keras.layers.Dense(10, activation='softmax'))\n",
        "\n",
        "\n",
        "\n",
        "    model.compile(\n",
        "        optimizer=keras.optimizers.Adam( learning_rate=hp.Choice('learning_rate', [1e-4, 1e-3, 1e-2])),\n",
        "        loss='categorical_crossentropy',\n",
        "        metrics=['accuracy'])\n",
        "\n",
        "\n",
        "    return model\n",
        "\n",
        "\n"
      ]
    },
    {
      "cell_type": "code",
      "execution_count": 109,
      "metadata": {
        "colab": {
          "base_uri": "https://localhost:8080/"
        },
        "id": "gHyP2teYU9ZM",
        "outputId": "cb676a47-873c-4440-b33f-747e21bc3238"
      },
      "outputs": [
        {
          "name": "stdout",
          "output_type": "stream",
          "text": [
            "Reloading Tuner from ./untitled_project/tuner0.json\n"
          ]
        }
      ],
      "source": [
        "tuner = kt.RandomSearch(\n",
        "    build_model,\n",
        "    objective='val_loss',\n",
        "    max_trials=5)"
      ]
    },
    {
      "cell_type": "code",
      "execution_count": 110,
      "metadata": {
        "colab": {
          "base_uri": "https://localhost:8080/"
        },
        "id": "4kdBSmxuU_lf",
        "outputId": "f4fd5707-ac03-4ff2-f5a0-e545f16a39f9"
      },
      "outputs": [
        {
          "name": "stdout",
          "output_type": "stream",
          "text": [
            "Trial 5 Complete [00h 02m 28s]\n",
            "val_loss: 2.3025548458099365\n",
            "\n",
            "Best val_loss So Far: 2.260125160217285\n",
            "Total elapsed time: 01h 19m 03s\n"
          ]
        },
        {
          "name": "stderr",
          "output_type": "stream",
          "text": [
            "/usr/local/lib/python3.10/dist-packages/keras/src/saving/saving_lib.py:576: UserWarning: Skipping variable loading for optimizer 'adam', because it has 2 variables whereas the saved optimizer has 14 variables. \n",
            "  saveable.load_own_variables(weights_store.get(inner_path))\n"
          ]
        }
      ],
      "source": [
        "tuner.search(x_train2, y_train2_onehot, epochs=10, validation_data=(x_validation, y_validation_onehot))\n",
        "best_model = tuner.get_best_models()[0]\n",
        "\n"
      ]
    },
    {
      "cell_type": "code",
      "execution_count": 111,
      "metadata": {
        "id": "vYRTJTHjWhIU"
      },
      "outputs": [],
      "source": [
        "from sklearn.metrics import accuracy_score, f1_score, roc_auc_score\n"
      ]
    },
    {
      "cell_type": "code",
      "execution_count": 112,
      "metadata": {
        "colab": {
          "base_uri": "https://localhost:8080/"
        },
        "id": "TDcahjuOXpoW",
        "outputId": "7001fa30-907d-4273-9bf8-e00d3533f3cc"
      },
      "outputs": [
        {
          "name": "stdout",
          "output_type": "stream",
          "text": [
            "\u001b[1m1435/1435\u001b[0m \u001b[32m━━━━━━━━━━━━━━━━━━━━\u001b[0m\u001b[37m\u001b[0m \u001b[1m9s\u001b[0m 6ms/step\n",
            "\u001b[1m160/160\u001b[0m \u001b[32m━━━━━━━━━━━━━━━━━━━━\u001b[0m\u001b[37m\u001b[0m \u001b[1m1s\u001b[0m 6ms/step\n",
            "\u001b[1m282/282\u001b[0m \u001b[32m━━━━━━━━━━━━━━━━━━━━\u001b[0m\u001b[37m\u001b[0m \u001b[1m2s\u001b[0m 7ms/step\n"
          ]
        }
      ],
      "source": [
        "y_train_pred = model.predict(x_train2)\n",
        "y_val_pred = model.predict(x_validation)\n",
        "y_test_pred = model.predict(x_test1)"
      ]
    },
    {
      "cell_type": "code",
      "execution_count": 113,
      "metadata": {
        "colab": {
          "base_uri": "https://localhost:8080/"
        },
        "id": "lLpZ53k271C4",
        "outputId": "d4379189-406d-4175-b0d9-36f15068aa1e"
      },
      "outputs": [
        {
          "data": {
            "text/plain": [
              "array([[0.10323302, 0.11143734, 0.10438831, ..., 0.08385971, 0.08769093,\n",
              "        0.09594622],\n",
              "       [0.05539427, 0.27069744, 0.01642528, ..., 0.0289006 , 0.08587487,\n",
              "        0.46561614],\n",
              "       [0.12056588, 0.05636668, 0.11891472, ..., 0.11313632, 0.04303808,\n",
              "        0.05876807],\n",
              "       ...,\n",
              "       [0.03275213, 0.05251814, 0.08707981, ..., 0.04633386, 0.04332992,\n",
              "        0.01634087],\n",
              "       [0.14768963, 0.09496798, 0.07953951, ..., 0.09889074, 0.10104244,\n",
              "        0.11020239],\n",
              "       [0.12183593, 0.1257191 , 0.03671542, ..., 0.09049261, 0.11607154,\n",
              "        0.3487235 ]], dtype=float32)"
            ]
          },
          "execution_count": 113,
          "metadata": {},
          "output_type": "execute_result"
        }
      ],
      "source": [
        "y_train_pred"
      ]
    },
    {
      "cell_type": "code",
      "execution_count": 114,
      "metadata": {
        "id": "ZNjULfBbYz9P"
      },
      "outputs": [],
      "source": [
        "y_train_pred_labels = y_train_pred.argmax(axis=1)\n",
        "y_val_pred_labels = y_val_pred.argmax(axis=1)\n",
        "y_test_pred_labels = y_test_pred.argmax(axis=1)\n"
      ]
    },
    {
      "cell_type": "code",
      "execution_count": 115,
      "metadata": {
        "id": "9faXj-YmYk-l"
      },
      "outputs": [],
      "source": [
        "train_acc = accuracy_score(y_train2, y_train_pred_labels)\n",
        "val_acc = accuracy_score(y_validation, y_val_pred_labels)\n",
        "test_acc = accuracy_score(y_test1, y_test_pred_labels)\n"
      ]
    },
    {
      "cell_type": "code",
      "execution_count": 116,
      "metadata": {
        "id": "oszOUGqPY45t"
      },
      "outputs": [],
      "source": [
        "train_f1 = f1_score(y_train2, y_train_pred_labels, average='macro')\n",
        "val_f1 = f1_score(y_validation, y_val_pred_labels, average='macro')\n",
        "test_f1 = f1_score(y_test1, y_test_pred_labels, average='macro')\n"
      ]
    },
    {
      "cell_type": "code",
      "execution_count": 117,
      "metadata": {
        "id": "zWP706UVZSMA"
      },
      "outputs": [],
      "source": [
        "train_roc_auc = roc_auc_score(y_train2_onehot, y_train_pred, multi_class='ovr')\n",
        "val_roc_auc = roc_auc_score(y_validation_onehot, y_val_pred, multi_class='ovr')\n",
        "test_roc_auc = roc_auc_score(y_test1_onehot, y_test_pred, multi_class='ovr')\n"
      ]
    },
    {
      "cell_type": "code",
      "execution_count": 118,
      "metadata": {
        "id": "gnB6aZp7ZJn6"
      },
      "outputs": [],
      "source": [
        "import pandas as pd\n",
        "results = pd.DataFrame({\n",
        "    'Dataset': ['Train', 'Validation', 'Test'],\n",
        "    'Accuracy': [train_acc, val_acc, test_acc],\n",
        "    'F1-Score': [train_f1, val_f1, test_f1],\n",
        "    'ROC-AUC': [train_roc_auc, val_roc_auc, test_roc_auc]\n",
        "})"
      ]
    },
    {
      "cell_type": "code",
      "execution_count": 119,
      "metadata": {
        "colab": {
          "base_uri": "https://localhost:8080/"
        },
        "id": "JsigRN7GZcgj",
        "outputId": "f771b213-ace9-4494-ed7c-1929b713a09f"
      },
      "outputs": [
        {
          "name": "stdout",
          "output_type": "stream",
          "text": [
            "      Dataset  Accuracy  F1-Score   ROC-AUC\n",
            "0       Train  0.327168  0.300961  0.779204\n",
            "1  Validation  0.328824  0.299892  0.777923\n",
            "2        Test  0.313556  0.289951  0.772936\n"
          ]
        }
      ],
      "source": [
        "print(results)\n"
      ]
    },
    {
      "cell_type": "code",
      "execution_count": 119,
      "metadata": {
        "id": "NXgnXRCRZeZp"
      },
      "outputs": [],
      "source": []
    },
    {
      "cell_type": "markdown",
      "metadata": {
        "id": "urA6KPdwZyd9"
      },
      "source": [
        "#Wide and Deep Network"
      ]
    },
    {
      "cell_type": "code",
      "execution_count": 150,
      "metadata": {
        "id": "UkTRU9W2Z291"
      },
      "outputs": [],
      "source": [
        "x =keras.layers.Input(shape=(32, 32, 3))\n",
        "input_ = layers.Flatten()(x)\n",
        "\n",
        "hidden_layer1 =keras.layers.Dense(512, activation='relu')(input_)\n",
        "hidden_layer2 = keras.layers.Dense(256, activation='relu')(hidden_layer1)\n",
        "hidden_layer3 =keras.layers.Dense(128, activation='relu')(hidden_layer2)\n",
        "hidden_layer4 =keras.layers.Dense(64, activation='relu')(hidden_layer3)\n",
        "hidden_layer5 =keras.layers.Dense(32, activation='relu')(hidden_layer4)\n",
        "\n",
        "flatten_hidden = layers.Flatten()(hidden_layer5)\n",
        "\n",
        "concatenate_layer= keras.layers.Concatenate()([input_,flatten_hidden])\n",
        "\n",
        "output =keras.layers.Dense(10, activation='softmax')(concatenate_layer)"
      ]
    },
    {
      "cell_type": "code",
      "execution_count": 121,
      "metadata": {
        "id": "yanxtaeXdWk7"
      },
      "outputs": [],
      "source": [
        "model_WD=keras.Model(inputs=[x],outputs=[output])"
      ]
    },
    {
      "cell_type": "code",
      "execution_count": 122,
      "metadata": {
        "id": "7Tp0duv5dZvX"
      },
      "outputs": [],
      "source": [
        "model_WD.compile(loss=\"categorical_crossentropy\",\n",
        "              optimizer=\"adam\",\n",
        "              metrics=[\"accuracy\"])"
      ]
    },
    {
      "cell_type": "code",
      "execution_count": 123,
      "metadata": {
        "colab": {
          "base_uri": "https://localhost:8080/"
        },
        "id": "1L0uojMbdj5i",
        "outputId": "c420d523-beb2-4ac7-df57-4248ea1f42b4"
      },
      "outputs": [
        {
          "name": "stdout",
          "output_type": "stream",
          "text": [
            "Epoch 1/5\n",
            "\u001b[1m1435/1435\u001b[0m \u001b[32m━━━━━━━━━━━━━━━━━━━━\u001b[0m\u001b[37m\u001b[0m \u001b[1m40s\u001b[0m 26ms/step - accuracy: 0.1854 - loss: 48.1676 - val_accuracy: 0.1745 - val_loss: 86.9566\n",
            "Epoch 2/5\n",
            "\u001b[1m1435/1435\u001b[0m \u001b[32m━━━━━━━━━━━━━━━━━━━━\u001b[0m\u001b[37m\u001b[0m \u001b[1m44s\u001b[0m 28ms/step - accuracy: 0.2320 - loss: 48.6796 - val_accuracy: 0.2422 - val_loss: 45.6984\n",
            "Epoch 3/5\n",
            "\u001b[1m1435/1435\u001b[0m \u001b[32m━━━━━━━━━━━━━━━━━━━━\u001b[0m\u001b[37m\u001b[0m \u001b[1m41s\u001b[0m 28ms/step - accuracy: 0.2438 - loss: 44.2577 - val_accuracy: 0.2339 - val_loss: 46.5484\n",
            "Epoch 4/5\n",
            "\u001b[1m1435/1435\u001b[0m \u001b[32m━━━━━━━━━━━━━━━━━━━━\u001b[0m\u001b[37m\u001b[0m \u001b[1m38s\u001b[0m 26ms/step - accuracy: 0.2569 - loss: 47.3099 - val_accuracy: 0.1957 - val_loss: 58.3011\n",
            "Epoch 5/5\n",
            "\u001b[1m1435/1435\u001b[0m \u001b[32m━━━━━━━━━━━━━━━━━━━━\u001b[0m\u001b[37m\u001b[0m \u001b[1m46s\u001b[0m 30ms/step - accuracy: 0.2552 - loss: 46.1431 - val_accuracy: 0.2575 - val_loss: 46.8735\n"
          ]
        },
        {
          "data": {
            "text/plain": [
              "<keras.src.callbacks.history.History at 0x7e021d047970>"
            ]
          },
          "execution_count": 123,
          "metadata": {},
          "output_type": "execute_result"
        }
      ],
      "source": [
        "model_WD.fit(x_train2, y_train2_onehot, epochs=10, validation_data=(x_validation, y_validation_onehot))\n"
      ]
    },
    {
      "cell_type": "code",
      "execution_count": 124,
      "metadata": {
        "colab": {
          "base_uri": "https://localhost:8080/"
        },
        "id": "BAdW-0UZwXjU",
        "outputId": "b3b3010b-2994-40c8-a074-1ccbcfe77209"
      },
      "outputs": [
        {
          "data": {
            "text/plain": [
              "array([[[0.5529412 , 0.72156864, 0.48235294],\n",
              "        [0.42352942, 0.67058825, 0.38431373],\n",
              "        [0.50980395, 0.6901961 , 0.44313726],\n",
              "        ...,\n",
              "        [0.65882355, 0.8509804 , 0.5568628 ],\n",
              "        [0.6117647 , 0.8117647 , 0.54901963],\n",
              "        [0.5137255 , 0.7254902 , 0.49803922]],\n",
              "\n",
              "       [[0.5882353 , 0.7137255 , 0.5176471 ],\n",
              "        [0.5176471 , 0.6666667 , 0.44313726],\n",
              "        [0.5686275 , 0.68235296, 0.48235294],\n",
              "        ...,\n",
              "        [0.7019608 , 0.90588236, 0.5882353 ],\n",
              "        [0.5294118 , 0.80784315, 0.5019608 ],\n",
              "        [0.23921569, 0.5764706 , 0.28627452]],\n",
              "\n",
              "       [[0.6156863 , 0.7019608 , 0.5411765 ],\n",
              "        [0.60784316, 0.6745098 , 0.50980395],\n",
              "        [0.60784316, 0.6745098 , 0.5176471 ],\n",
              "        ...,\n",
              "        [0.69411767, 0.9137255 , 0.5764706 ],\n",
              "        [0.32941177, 0.67058825, 0.33333334],\n",
              "        [0.10196079, 0.5372549 , 0.20392157]],\n",
              "\n",
              "       ...,\n",
              "\n",
              "       [[0.05098039, 0.29411766, 0.03921569],\n",
              "        [0.02745098, 0.33333334, 0.09019608],\n",
              "        [0.2       , 0.7019608 , 0.28627452],\n",
              "        ...,\n",
              "        [0.24705882, 0.67058825, 0.3254902 ],\n",
              "        [0.30980393, 0.60784316, 0.35686275],\n",
              "        [0.3137255 , 0.54509807, 0.34509805]],\n",
              "\n",
              "       [[0.03137255, 0.20392157, 0.03921569],\n",
              "        [0.03921569, 0.30980393, 0.11372549],\n",
              "        [0.16862746, 0.61960787, 0.23529412],\n",
              "        ...,\n",
              "        [0.20392157, 0.7176471 , 0.2784314 ],\n",
              "        [0.29803923, 0.6784314 , 0.35686275],\n",
              "        [0.22745098, 0.49411765, 0.27450982]],\n",
              "\n",
              "       [[0.05098039, 0.18431373, 0.09019608],\n",
              "        [0.02352941, 0.26666668, 0.09803922],\n",
              "        [0.09019608, 0.46666667, 0.11764706],\n",
              "        ...,\n",
              "        [0.25490198, 0.76862746, 0.27058825],\n",
              "        [0.2784314 , 0.69411767, 0.31764707],\n",
              "        [0.13333334, 0.45490196, 0.20392157]]], dtype=float32)"
            ]
          },
          "execution_count": 124,
          "metadata": {},
          "output_type": "execute_result"
        }
      ],
      "source": [
        "x_test1[2]"
      ]
    },
    {
      "cell_type": "code",
      "execution_count": 153,
      "metadata": {
        "colab": {
          "base_uri": "https://localhost:8080/",
          "height": 482
        },
        "id": "PYWZi7uPw8AG",
        "outputId": "ce4089c8-0e3f-407a-c1fd-8a871c1f6ebb"
      },
      "outputs": [
        {
          "data": {
            "image/png": "[encoded data removed]",
            "text/plain": [
              "<Figure size 640x480 with 1 Axes>"
            ]
          },
          "metadata": {},
          "output_type": "display_data"
        },
        {
          "name": "stdout",
          "output_type": "stream",
          "text": [
            "\u001b[1m1/1\u001b[0m \u001b[32m━━━━━━━━━━━━━━━━━━━━\u001b[0m\u001b[37m\u001b[0m \u001b[1m0s\u001b[0m 42ms/step\n",
            "True prediction\n",
            "Predicted class: 6, True class: 6\n"
          ]
        }
      ],
      "source": [
        "\n",
        "import numpy as np\n",
        "import matplotlib.pyplot as plt\n",
        "\n",
        "random_idx = np.random.randint(len(x_test1))\n",
        "img = x_test1[random_idx]\n",
        "\n",
        "plt.imshow(img)\n",
        "plt.show()\n",
        "\n",
        "prediction = model_WD.predict(np.expand_dims(img, axis=0))\n",
        "\n",
        "predicted_class = np.argmax(prediction)\n",
        "\n",
        "true_class = y_test1[random_idx][0]\n",
        "\n",
        "if predicted_class == true_class:\n",
        "    print(\"True prediction\")\n",
        "    print(f\"Predicted class: {predicted_class}, True class: {true_class}\")\n",
        "else:\n",
        "    print(f\"Wrong prediction: {predicted_class}, True class: {true_class}\")\n"
      ]
    },
    {
      "cell_type": "code",
      "execution_count": 126,
      "metadata": {
        "colab": {
          "base_uri": "https://localhost:8080/"
        },
        "id": "KsZQ1nXJxrS_",
        "outputId": "d49bde95-2e00-4d01-b072-aa9966fcb304"
      },
      "outputs": [
        {
          "data": {
            "text/plain": [
              "array([[[0.5529412 , 0.72156864, 0.48235294],\n",
              "        [0.42352942, 0.67058825, 0.38431373],\n",
              "        [0.50980395, 0.6901961 , 0.44313726],\n",
              "        ...,\n",
              "        [0.65882355, 0.8509804 , 0.5568628 ],\n",
              "        [0.6117647 , 0.8117647 , 0.54901963],\n",
              "        [0.5137255 , 0.7254902 , 0.49803922]],\n",
              "\n",
              "       [[0.5882353 , 0.7137255 , 0.5176471 ],\n",
              "        [0.5176471 , 0.6666667 , 0.44313726],\n",
              "        [0.5686275 , 0.68235296, 0.48235294],\n",
              "        ...,\n",
              "        [0.7019608 , 0.90588236, 0.5882353 ],\n",
              "        [0.5294118 , 0.80784315, 0.5019608 ],\n",
              "        [0.23921569, 0.5764706 , 0.28627452]],\n",
              "\n",
              "       [[0.6156863 , 0.7019608 , 0.5411765 ],\n",
              "        [0.60784316, 0.6745098 , 0.50980395],\n",
              "        [0.60784316, 0.6745098 , 0.5176471 ],\n",
              "        ...,\n",
              "        [0.69411767, 0.9137255 , 0.5764706 ],\n",
              "        [0.32941177, 0.67058825, 0.33333334],\n",
              "        [0.10196079, 0.5372549 , 0.20392157]],\n",
              "\n",
              "       ...,\n",
              "\n",
              "       [[0.05098039, 0.29411766, 0.03921569],\n",
              "        [0.02745098, 0.33333334, 0.09019608],\n",
              "        [0.2       , 0.7019608 , 0.28627452],\n",
              "        ...,\n",
              "        [0.24705882, 0.67058825, 0.3254902 ],\n",
              "        [0.30980393, 0.60784316, 0.35686275],\n",
              "        [0.3137255 , 0.54509807, 0.34509805]],\n",
              "\n",
              "       [[0.03137255, 0.20392157, 0.03921569],\n",
              "        [0.03921569, 0.30980393, 0.11372549],\n",
              "        [0.16862746, 0.61960787, 0.23529412],\n",
              "        ...,\n",
              "        [0.20392157, 0.7176471 , 0.2784314 ],\n",
              "        [0.29803923, 0.6784314 , 0.35686275],\n",
              "        [0.22745098, 0.49411765, 0.27450982]],\n",
              "\n",
              "       [[0.05098039, 0.18431373, 0.09019608],\n",
              "        [0.02352941, 0.26666668, 0.09803922],\n",
              "        [0.09019608, 0.46666667, 0.11764706],\n",
              "        ...,\n",
              "        [0.25490198, 0.76862746, 0.27058825],\n",
              "        [0.2784314 , 0.69411767, 0.31764707],\n",
              "        [0.13333334, 0.45490196, 0.20392157]]], dtype=float32)"
            ]
          },
          "execution_count": 126,
          "metadata": {},
          "output_type": "execute_result"
        }
      ],
      "source": [
        "x_test1[2]"
      ]
    },
    {
      "cell_type": "code",
      "execution_count": 127,
      "metadata": {
        "colab": {
          "base_uri": "https://localhost:8080/"
        },
        "id": "zATx7iTV18HD",
        "outputId": "9695204e-9716-4827-8278-5676d042ce70"
      },
      "outputs": [
        {
          "data": {
            "text/plain": [
              "array([[1],\n",
              "       [9],\n",
              "       [2],\n",
              "       ...,\n",
              "       [3],\n",
              "       [0],\n",
              "       [3]], dtype=uint8)"
            ]
          },
          "execution_count": 127,
          "metadata": {},
          "output_type": "execute_result"
        }
      ],
      "source": [
        "y_test1[:]"
      ]
    },
    {
      "cell_type": "code",
      "execution_count": 128,
      "metadata": {
        "colab": {
          "base_uri": "https://localhost:8080/",
          "height": 447
        },
        "id": "tKQ3R32vyaRk",
        "outputId": "9eebaa44-1b06-4c48-a4a5-dedb9cc367ee"
      },
      "outputs": [
        {
          "data": {
            "text/plain": [
              "<matplotlib.image.AxesImage at 0x7e021d044af0>"
            ]
          },
          "execution_count": 128,
          "metadata": {},
          "output_type": "execute_result"
        },
        {
          "data": {
            "image/png": "[encoded data removed]",
            "text/plain": [
              "<Figure size 640x480 with 1 Axes>"
            ]
          },
          "metadata": {},
          "output_type": "display_data"
        }
      ],
      "source": [
        "plt.imshow(x_test1[2])\n"
      ]
    },
    {
      "cell_type": "code",
      "execution_count": null,
      "metadata": {
        "id": "jkymEfm9_xPp"
      },
      "outputs": [],
      "source": []
    }
  ],
  "metadata": {
    "colab": {
      "provenance": []
    },
    "kernelspec": {
      "display_name": "Python 3",
      "name": "python3"
    },
    "language_info": {
      "name": "python"
    }
  },
  "nbformat": 4,
  "nbformat_minor": 0
}
